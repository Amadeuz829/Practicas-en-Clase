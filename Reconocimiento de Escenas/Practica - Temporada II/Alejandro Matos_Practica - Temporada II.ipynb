{
 "cells": [
  {
   "cell_type": "code",
   "execution_count": 374,
   "id": "f5af12ff-bd3d-4c7c-9aa4-714856c161e3",
   "metadata": {},
   "outputs": [],
   "source": [
    "import cv2\n",
    "import numpy as np"
   ]
  },
  {
   "cell_type": "code",
   "execution_count": 380,
   "id": "b1bf600e-602b-4c6d-9952-2e82e71c02fc",
   "metadata": {},
   "outputs": [],
   "source": [
    "#Creando Imagen con fondo Negro\n",
    "imagen = np.zeros((500,500,3), np.uint8)\n",
    "imagen[:,:,:] = (0,0,0)"
   ]
  },
  {
   "cell_type": "code",
   "execution_count": 381,
   "id": "cda2b902-9b6e-4075-8760-14158c705a42",
   "metadata": {},
   "outputs": [],
   "source": [
    "#Agregando linea Azul Vertical\n",
    "cv2.line(imagen,(0,0),(500,500),(255,0,0),3)\n",
    "\n",
    "#Agregando Rectangulo\n",
    "rectangulo = cv2.rectangle(imagen,(95,125),(405,375),(0,255,0),1)\n",
    "\n",
    "#Agregando Circulo\n",
    "circulo = cv2.circle(imagen,(250,250),125,(0,0,255),1)\n",
    "\n",
    "#Agregando Texto a la imagen\n",
    "fontype= cv2.FONT_ITALIC\n",
    "cv2.putText(imagen, \"Alejandro Matos\", (125, 100),fontype, 1, (93, 122, 44), 1, cv2.LINE_8)\n",
    "\n",
    "#\n",
    "cv2.imwrite('imagen.jpg', imagen)\n",
    "\n",
    "#Convirtiendo la imagen a escala de grises\n",
    "imagen = cv2.cvtColor(imagen, cv2.COLOR_BGR2GRAY)\n",
    "\n",
    "# Redimensiona la imagen al doble de su tamaño original.\n",
    "imagen = cv2.resize(imagen, (0,0), fx=2, fy=2)\n",
    "cv2.imwrite('imagen_redimensionada_doble.jpg', imagen)\n",
    "\n",
    "#Rotando 45 Grados\n",
    "\n",
    "alto,ancho = imagen.shape[:2]\n",
    "matriz_rotacion = cv2.getRotationMatrix2D((ancho/2,alto/2), 45, 1.0)\n",
    "\n",
    "imagen_rotada = cv2.warpAffine(imagen, matriz_rotacion, (alto, ancho))\n",
    "\n",
    "#añadiendo perspectiva\n",
    "puntos_origen = np.float32([[0, 0], [1000, 0], [0, 1000], [1000, 1000]])\n",
    "puntos_destino = np.float32([[0, 40], [1000, 40], [0, 1000], [1000, 600]])\n",
    "matriz_perspectiva = cv2.getPerspectiveTransform(puntos_origen, puntos_destino)\n",
    "\n",
    "imagen_transformada = cv2.warpPerspective(imagen, matriz_perspectiva, (1000, 1000))\n"
   ]
  },
  {
   "cell_type": "code",
   "execution_count": 382,
   "id": "9c6a78cc-c99d-45e6-914c-7f9bcffc8db1",
   "metadata": {},
   "outputs": [],
   "source": [
    "#Creando mascara para que solo cierta parte de la imagen sea visible\n",
    "mascara = np.zeros(imagen.shape[:2],dtype=np.uint8)\n",
    "centro = (imagen.shape[1] // 2, imagen.shape[0] // 2)\n",
    "radio = 125\n",
    "cv2.circle(mascara, centro, radio, 255, -1)\n",
    "\n",
    "resultado_mascara = cv2.bitwise_and(imagen, imagen, mask=mascara)"
   ]
  },
  {
   "cell_type": "code",
   "execution_count": 383,
   "id": "a193c7c1-8726-44f4-b3ec-3b705413df3b",
   "metadata": {},
   "outputs": [
    {
     "data": {
      "text/plain": [
       "True"
      ]
     },
     "execution_count": 383,
     "metadata": {},
     "output_type": "execute_result"
    }
   ],
   "source": [
    "cv2.imwrite('imagen_grises.jpg', imagen)\n",
    "cv2.imwrite('imagen_rotada45.jpg', imagen_rotada)\n",
    "cv2.imwrite('imagen_Perspectiva.jpg', imagen_transformada)\n",
    "cv2.imwrite('imagen_mascara de transparencia.jpg', resultado_mascara)\n"
   ]
  },
  {
   "cell_type": "code",
   "execution_count": 379,
   "id": "9412f844-34ff-4355-9289-59cf29ff5090",
   "metadata": {},
   "outputs": [],
   "source": [
    "cv2.imshow('mascara',resultado_mascara)\n",
    "cv2.imshow('Original',imagen)\n",
    "cv2.waitKey(0)\n",
    "cv2.destroyAllWindows()"
   ]
  },
  {
   "cell_type": "code",
   "execution_count": null,
   "id": "5324b5a8-4a3b-4911-93cd-91fd2ff1ffd8",
   "metadata": {},
   "outputs": [],
   "source": []
  }
 ],
 "metadata": {
  "kernelspec": {
   "display_name": "Python 3 (ipykernel)",
   "language": "python",
   "name": "python3"
  },
  "language_info": {
   "codemirror_mode": {
    "name": "ipython",
    "version": 3
   },
   "file_extension": ".py",
   "mimetype": "text/x-python",
   "name": "python",
   "nbconvert_exporter": "python",
   "pygments_lexer": "ipython3",
   "version": "3.13.2"
  }
 },
 "nbformat": 4,
 "nbformat_minor": 5
}
